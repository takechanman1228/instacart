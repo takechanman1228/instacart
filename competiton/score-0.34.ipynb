{
 "cells": [
  {
   "cell_type": "markdown",
   "metadata": {},
   "source": [
    "https://www.kaggle.com/misfyre/beat-the-benchmark-0-3473245/code"
   ]
  },
  {
   "cell_type": "markdown",
   "metadata": {},
   "source": [
    "- How many times the user ordered a product\n",
    "- The order of the product added by the user\n",
    "- How recent the overall order is\n",
    "- Average length of a user's order"
   ]
  },
  {
   "cell_type": "code",
   "execution_count": 2,
   "metadata": {
    "collapsed": false
   },
   "outputs": [
    {
     "name": "stderr",
     "output_type": "stream",
     "text": [
      "/Users/take/.pyenv/versions/anaconda3-4.1.0/lib/python3.5/site-packages/ipykernel/__main__.py:32: SettingWithCopyWarning: \n",
      "A value is trying to be set on a copy of a slice from a DataFrame.\n",
      "Try using .loc[row_indexer,col_indexer] = value instead\n",
      "\n",
      "See the caveats in the documentation: http://pandas.pydata.org/pandas-docs/stable/indexing.html#indexing-view-versus-copy\n"
     ]
    }
   ],
   "source": [
    "import pandas as pd\n",
    "import operator\n",
    "\n",
    "# reading data\n",
    "prior_orders = pd.read_csv('../input/order_products__prior.csv')\n",
    "train_orders = pd.read_csv('../input/order_products__train.csv')\n",
    "orders = pd.read_csv('../input/orders.csv')\n",
    "\n",
    "# removing all user_ids not in the test set\n",
    "test  = orders[orders['eval_set'] == 'test' ]\n",
    "user_ids = test['user_id'].values\n",
    "orders = orders[orders['user_id'].isin(user_ids)]\n",
    "\n",
    "# combine prior rows by user_id, add product_ids to a list\n",
    "prior_products = pd.DataFrame(prior_orders.groupby(\n",
    "    'order_id')['product_id'].apply(list))\n",
    "prior_products.reset_index(level=['order_id'], inplace=True)\n",
    "prior_products.columns = ['order_id','products_list']\n",
    "\n",
    "# combine train rows by user_id, add product_ids to a list\n",
    "train_products = pd.DataFrame(train_orders.groupby(\n",
    "    'order_id')['product_id'].apply(list))\n",
    "train_products.reset_index(level=['order_id'], inplace=True)\n",
    "train_products.columns = ['order_id','products_list']\n",
    "\n",
    "# seperate orders into prior/train sets\n",
    "# turns out there are no test user_ids in the training set so train will be empty\n",
    "prior = orders[orders['eval_set'] == 'prior']\n",
    "train = orders[orders['eval_set'] == 'train']\n",
    "\n",
    "# find the number of the last order placed\n",
    "prior['num_orders'] = prior.groupby(['user_id'])['order_number'].transform(max)\n",
    "train['num_orders'] = train.groupby(['user_id'])['order_number'].transform(max)\n",
    "\n",
    "# merge everything into one dataframe\n",
    "prior = pd.merge(prior, prior_products, on='order_id', how='left')\n",
    "train = pd.merge(train, train_products, on='order_id', how='left')\n",
    "comb = pd.concat([prior, train], axis=0).reset_index(drop=True)\n",
    "\n",
    "test_cols = ['order_id','user_id']\n",
    "cols = ['order_id','user_id','order_number','num_orders','products_list']\n",
    "\n",
    "comb = comb[cols]\n",
    "test = test[test_cols]\n",
    "\n"
   ]
  },
  {
   "cell_type": "code",
   "execution_count": null,
   "metadata": {
    "collapsed": true
   },
   "outputs": [],
   "source": [
    "# iterate through dataframe, adding data to dictionary\n",
    "# data added is in the form of a list:\n",
    "    # list[0] = weight of the data: (1 + current order number / final order number), thus later data is weighted more\n",
    "    # list[1] = how important the item is to the buyer: (order in the cart / number of items bought), thus items bought first are weighted more\n",
    "\n",
    "# also used the average amount of items bought every order as a benchmark for how many items to add per user in the final submission\n",
    "\n",
    "product_dict = {}\n",
    "for i, row in comb.iterrows():\n",
    "    if i % 100000 == 0:\n",
    "        print('Iterated Through {} Rows...'.format(i))\n",
    "\n",
    "    if row['user_id'] in product_dict:\n",
    "        index = 1\n",
    "        list.append(product_dict[row['user_id']]['len_products'], len(row['products_list']))\n",
    "        for val in row['products_list']:\n",
    "            if val in product_dict[row['user_id']]:\n",
    "                product_dict[row['user_id']][val][0] += 1 + int(row['order_number']) / int(row['num_orders'])\n",
    "                list.append(product_dict[row['user_id']][val][1], index / len(row['products_list']))\n",
    "            else:\n",
    "                product_dict[row['user_id']][val] = [1 + int(row['order_number']) / int(row['num_orders']),\n",
    "                                              [index / len(row['products_list'])]]\n",
    "            index += 1\n",
    "    else:\n",
    "        index = 1\n",
    "        product_dict[row['user_id']] = {'len_products': [\n",
    "            len(row['products_list'])]}\n",
    "        for val in row['products_list']:\n",
    "            product_dict[row['user_id']][val] = [1 + int(row['order_number']) / int(row['num_orders']),\n",
    "                                          [index / len(row['products_list'])]]\n",
    "            index += 1\n",
    "\n",
    "final_data = {}\n",
    "for user_id in product_dict:\n",
    "    final_data[user_id] = {}\n",
    "    for product_id in product_dict[user_id]:\n",
    "        if product_id == 'len_products':\n",
    "            final_data[user_id][product_id] = \\\n",
    "                round(sum(product_dict[user_id][product_id])/\n",
    "                    len(product_dict[user_id][product_id]))\n",
    "        else:\n",
    "            final_data[user_id][product_id] = \\\n",
    "                [product_dict[user_id][product_id][0],1/\n",
    "                 (sum(product_dict[user_id][product_id][1])/\n",
    "                len(product_dict[user_id][product_id][1]))]\n",
    "\n",
    "# iterate through testing dataframe\n",
    "# every user_id in test corresponds to a dictionary entry\n",
    "# call the dictionary with every row, products by weight, combine them into a string, and append them to products\n",
    "\n",
    "products = []\n",
    "for i, row in test.iterrows():\n",
    "    if i % 100000 == 0:\n",
    "        print('Iterated Through {} Rows...'.format(i))\n",
    "\n",
    "    final_products = []\n",
    "    len_products = None\n",
    "    total_products = final_data[row['user_id']].items()\n",
    "    for product in total_products:\n",
    "        if product[0] == 'len_products':\n",
    "            len_products = product[1]\n",
    "        else:\n",
    "            list.append(final_products, product)\n",
    "\n",
    "    output = []\n",
    "    product_list = sorted(final_products,\n",
    "        key=operator.itemgetter(1), reverse=True)\n",
    "    for val in product_list[:len_products]:\n",
    "        list.append(output, str(val[0]))\n",
    "    final_output = ' '.join(output)\n",
    "    list.append(products, final_output)\n",
    "\n",
    "# create submission\n",
    "submission = pd.DataFrame()\n",
    "submission['order_id'] = test['order_id']\n",
    "submission['products'] = products\n",
    "submission.to_csv('submission.csv', index=False)"
   ]
  }
 ],
 "metadata": {
  "anaconda-cloud": {},
  "kernelspec": {
   "display_name": "Python [Root]",
   "language": "python",
   "name": "Python [Root]"
  },
  "language_info": {
   "codemirror_mode": {
    "name": "ipython",
    "version": 3
   },
   "file_extension": ".py",
   "mimetype": "text/x-python",
   "name": "python",
   "nbconvert_exporter": "python",
   "pygments_lexer": "ipython3",
   "version": "3.5.1"
  }
 },
 "nbformat": 4,
 "nbformat_minor": 0
}
